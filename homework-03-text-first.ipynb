{
 "cells": [
  {
   "cell_type": "markdown",
   "metadata": {
    "id": "OCfOAvvpXHaH"
   },
   "source": [
    "# Введение в глубинное обучение, ФКН ВШЭ\n",
    "\n",
    "## Домашнее задание 3. Обработка текстов.\n",
    "\n",
    "### Общая информация\n",
    "\n",
    "Дата выдачи: 13.01.2022\n",
    "\n",
    "Мягкий дедлайн: 23:59MSK 6.02.2022\n",
    "\n",
    "Жесткий дедлайн: 23:59MSK 10.02.2022\n",
    "\n",
    "Оценка после штрафа после мягкого дедлайна вычисляется по формуле $M_{penalty} = M_{full} \\cdot 0.85^{t/1440}$, где $M_{full}$ — полная оценка за работу без учета штрафа, а $t$ — время в минутах, прошедшее после мягкого дедлайна (округление до двух цифр после запятой). Таким образом, спустя первые сутки после мягкого дедлайна вы не можете получить оценку выше 8.5, а если сдать перед самым жестким дедлайном, то ваш максимум — 5.22 балла.\n",
    "\n",
    "### Оценивание и штрафы\n",
    "\n",
    "Максимально допустимая оценка за работу — 10 баллов. Сдавать задание после указанного срока сдачи нельзя.\n",
    "\n",
    "Задание выполняется самостоятельно. «Похожие» решения считаются плагиатом и все задействованные студенты (в том числе те, у кого списали) не могут получить за него больше 0 баллов. Если вы нашли решение какого-то из заданий (или его часть) в открытом источнике, необходимо указать ссылку на этот источник в отдельном блоке в конце вашей работы (скорее всего вы будете не единственным, кто это нашел, поэтому чтобы исключить подозрение в плагиате, необходима ссылка на источник).\n",
    "\n",
    "Неэффективная реализация кода может негативно отразиться на оценке. Также оценка может быть снижена за плохо читаемый код и плохо оформленные графики. Все ответы должны сопровождаться кодом или комментариями о том, как они были получены.\n",
    "\n",
    "### О задании\n",
    "\n",
    "В данном домашнем задании вам предстоит предсказывать пользовательскую оценку отеля по тексту отзыва. Нужно обучиться на данных с кэггла и заслать в [соревнование](https://www.kaggle.com/t/3e8fa6cec6d048bf8e93fb72e441d88c) предикт. По той же ссылке можете скачать данные.\n",
    "\n",
    "Мы собрали для вас отзывы по 1500 отелям из совершенно разных уголков мира. Что это за отели - секрет. Вам дан текст отзыва и пользовательская оценка отеля. Ваша задача - научиться предсказывать оценку отеля по отзыву.\n",
    "\n",
    "Главная метрика - Mean Absolute Error (MAE). Во всех частях домашней работы вам нужно получить значение MAE не превышающее 0.92 на публичном лидерборде. В противном случае мы будем вынуждены не засчитать задание :( \n",
    "\n",
    "#### Про данные:\n",
    "Каждое ревью состоит из двух текстов: positive и negative - плюсы и минусы отеля. В столбце score находится оценка пользователя - вещественное число 0 до 10. Вам нужно извлечь признаки из этих текстов и предсказать по ним оценку.\n",
    "\n",
    "Для локального тестирования используйте предоставленное разбиение на трейн и тест.\n",
    "\n",
    "Good luck & have fun! 💪"
   ]
  },
  {
   "cell_type": "markdown",
   "metadata": {
    "id": "T6Ej16t1XHaM"
   },
   "source": [
    "#### Использовать любые данные для обучения кроме предоставленных организаторами строго запрещено. В последней части можно использовать предобученные модели из библиотеки `transformers`."
   ]
  },
  {
   "cell_type": "code",
   "execution_count": 76,
   "metadata": {
    "id": "U4Gc4Go5XHaN"
   },
   "outputs": [],
   "source": [
    "PATH_TO_TRAIN_DATA = 'train.csv'\n",
    "PATH_TO_TEST_DATA = 'test.csv'"
   ]
  },
  {
   "cell_type": "code",
   "execution_count": 102,
   "metadata": {
    "id": "6kJRM6ZUXHaO",
    "outputId": "e6ba4512-21c3-4dd8-a1d5-e270541cdc64"
   },
   "outputs": [
    {
     "data": {
      "text/html": [
       "<div>\n",
       "<style scoped>\n",
       "    .dataframe tbody tr th:only-of-type {\n",
       "        vertical-align: middle;\n",
       "    }\n",
       "\n",
       "    .dataframe tbody tr th {\n",
       "        vertical-align: top;\n",
       "    }\n",
       "\n",
       "    .dataframe thead th {\n",
       "        text-align: right;\n",
       "    }\n",
       "</style>\n",
       "<table border=\"1\" class=\"dataframe\">\n",
       "  <thead>\n",
       "    <tr style=\"text-align: right;\">\n",
       "      <th></th>\n",
       "      <th>review_id</th>\n",
       "      <th>negative</th>\n",
       "      <th>positive</th>\n",
       "      <th>score</th>\n",
       "    </tr>\n",
       "  </thead>\n",
       "  <tbody>\n",
       "    <tr>\n",
       "      <th>0</th>\n",
       "      <td>00003c6036f30f590c0ac435efb8739b</td>\n",
       "      <td>There were issues with the wifi connection</td>\n",
       "      <td>No Positive</td>\n",
       "      <td>7.1</td>\n",
       "    </tr>\n",
       "    <tr>\n",
       "      <th>1</th>\n",
       "      <td>00004d18f186bf2489590dc415876f73</td>\n",
       "      <td>TV not working</td>\n",
       "      <td>No Positive</td>\n",
       "      <td>7.5</td>\n",
       "    </tr>\n",
       "    <tr>\n",
       "      <th>2</th>\n",
       "      <td>0000cf900cbb8667fad33a717e9b1cf4</td>\n",
       "      <td>More pillows</td>\n",
       "      <td>Beautiful room Great location Lovely staff</td>\n",
       "      <td>10.0</td>\n",
       "    </tr>\n",
       "    <tr>\n",
       "      <th>3</th>\n",
       "      <td>0000df16edf19e7ad9dd8c5cd6f6925e</td>\n",
       "      <td>Very business</td>\n",
       "      <td>Location</td>\n",
       "      <td>5.4</td>\n",
       "    </tr>\n",
       "    <tr>\n",
       "      <th>4</th>\n",
       "      <td>00025e1aa3ac32edb496db49e76bbd00</td>\n",
       "      <td>Rooms could do with a bit of a refurbishment ...</td>\n",
       "      <td>Nice breakfast handy for Victoria train stati...</td>\n",
       "      <td>6.7</td>\n",
       "    </tr>\n",
       "  </tbody>\n",
       "</table>\n",
       "</div>"
      ],
      "text/plain": [
       "                          review_id  \\\n",
       "0  00003c6036f30f590c0ac435efb8739b   \n",
       "1  00004d18f186bf2489590dc415876f73   \n",
       "2  0000cf900cbb8667fad33a717e9b1cf4   \n",
       "3  0000df16edf19e7ad9dd8c5cd6f6925e   \n",
       "4  00025e1aa3ac32edb496db49e76bbd00   \n",
       "\n",
       "                                            negative  \\\n",
       "0         There were issues with the wifi connection   \n",
       "1                                     TV not working   \n",
       "2                                       More pillows   \n",
       "3                                      Very business   \n",
       "4   Rooms could do with a bit of a refurbishment ...   \n",
       "\n",
       "                                            positive  score  \n",
       "0                                        No Positive    7.1  \n",
       "1                                        No Positive    7.5  \n",
       "2        Beautiful room Great location Lovely staff    10.0  \n",
       "3                                           Location    5.4  \n",
       "4   Nice breakfast handy for Victoria train stati...    6.7  "
      ]
     },
     "execution_count": 102,
     "metadata": {},
     "output_type": "execute_result"
    }
   ],
   "source": [
    "import pandas as pd\n",
    "\n",
    "df = pd.read_csv(PATH_TO_TRAIN_DATA)\n",
    "df1 = pd.read_csv(PATH_TO_TEST_DATA)\n",
    "df.head()"
   ]
  },
  {
   "cell_type": "markdown",
   "metadata": {
    "id": "bpLk8dXBXHaP"
   },
   "source": [
    "Предобработка текста может сказываться на качестве вашей модели.\n",
    "Сделаем небольшой препроцессинг текстов: удалим знаки препинания, приведем все слова к нижнему регистру. \n",
    "Однако можно не ограничиваться этим набором преобразований. Подумайте, что еще можно сделать с текстами, чтобы помочь будущим моделям? Добавьте преобразования, которые могли бы помочь по вашему мнению."
   ]
  },
  {
   "cell_type": "markdown",
   "metadata": {
    "id": "SfkhII5AXHaP"
   },
   "source": [
    "Также мы добавили разбиение текстов на токены. Теперь каждая строка-ревью стала массивом токенов."
   ]
  },
  {
   "cell_type": "code",
   "execution_count": 78,
   "metadata": {},
   "outputs": [
    {
     "name": "stdout",
     "output_type": "stream",
     "text": [
      "Requirement already satisfied: nltk in /Users/varya/miniforge3/envs/hseml/lib/python3.9/site-packages (3.6.7)\r\n",
      "Requirement already satisfied: joblib in /Users/varya/miniforge3/envs/hseml/lib/python3.9/site-packages (from nltk) (1.0.1)\r\n",
      "Requirement already satisfied: tqdm in /Users/varya/miniforge3/envs/hseml/lib/python3.9/site-packages (from nltk) (4.62.2)\r\n",
      "Requirement already satisfied: click in /Users/varya/miniforge3/envs/hseml/lib/python3.9/site-packages (from nltk) (8.0.3)\r\n",
      "Requirement already satisfied: regex>=2021.8.3 in /Users/varya/miniforge3/envs/hseml/lib/python3.9/site-packages (from nltk) (2021.11.10)\r\n"
     ]
    }
   ],
   "source": [
    "!pip install nltk"
   ]
  },
  {
   "cell_type": "code",
   "execution_count": 103,
   "metadata": {
    "id": "tv-gbEKGXHaQ"
   },
   "outputs": [
    {
     "name": "stderr",
     "output_type": "stream",
     "text": [
      "[nltk_data] Downloading package punkt to /Users/varya/nltk_data...\n",
      "[nltk_data]   Package punkt is already up-to-date!\n",
      "[nltk_data] Downloading package stopwords to /Users/varya/nltk_data...\n",
      "[nltk_data]   Package stopwords is already up-to-date!\n"
     ]
    }
   ],
   "source": [
    "import string\n",
    "\n",
    "import nltk\n",
    "nltk.download('punkt')\n",
    "nltk.download('stopwords')\n",
    "from nltk.tokenize import word_tokenize\n",
    "#удалим стоп-слова и окончания\n",
    "\n",
    "\n",
    "from nltk.corpus import stopwords\n",
    "from nltk.stem import SnowballStemmer\n",
    "\n",
    "stopwords.words(\"english\")\n",
    "snowball = SnowballStemmer(\"english\")\n",
    "\n",
    " "
   ]
  },
  {
   "cell_type": "code",
   "execution_count": 104,
   "metadata": {
    "id": "-X1bXhROXHaQ"
   },
   "outputs": [],
   "source": [
    "df['negative'] = df['negative'].apply(process_text)\n",
    "df['positive'] = df['positive'].apply(process_text)"
   ]
  },
  {
   "cell_type": "code",
   "execution_count": 105,
   "metadata": {},
   "outputs": [],
   "source": [
    "df1['negative'] = df1['negative'].apply(process_text)\n",
    "df1['positive'] = df1['positive'].apply(process_text)"
   ]
  },
  {
   "cell_type": "code",
   "execution_count": 106,
   "metadata": {
    "id": "MewBIvp9XHaQ"
   },
   "outputs": [],
   "source": [
    "from sklearn.model_selection import train_test_split"
   ]
  },
  {
   "cell_type": "code",
   "execution_count": 107,
   "metadata": {},
   "outputs": [],
   "source": [
    "df['review'] = df['negative'] + df['positive']\n",
    "df['review'] = df.review.apply(lambda x: ' '.join(x))"
   ]
  },
  {
   "cell_type": "code",
   "execution_count": 108,
   "metadata": {},
   "outputs": [],
   "source": [
    "df1['review'] = df1['negative'] + df1['positive']\n",
    "df1['review'] = df1.review.apply(lambda x: ' '.join(x))"
   ]
  },
  {
   "cell_type": "code",
   "execution_count": 109,
   "metadata": {},
   "outputs": [],
   "source": [
    "#df_train, df_test = train_test_split(df['review'], df['score'], random_state=1412)"
   ]
  },
  {
   "cell_type": "markdown",
   "metadata": {
    "id": "3gu1EIc3XHaR"
   },
   "source": [
    "### Часть 1. 1 балл"
   ]
  },
  {
   "cell_type": "markdown",
   "metadata": {
    "id": "DM7ZD9gyXHaR"
   },
   "source": [
    "Обучите логистическую или линейную регрессию на TF-IDF векторах текстов."
   ]
  },
  {
   "cell_type": "code",
   "execution_count": 117,
   "metadata": {
    "id": "2x4yCjh8XHaR"
   },
   "outputs": [],
   "source": [
    "from sklearn.feature_extraction.text import TfidfVectorizer\n",
    "from sklearn.linear_model import LinearRegression, Ridge"
   ]
  },
  {
   "cell_type": "code",
   "execution_count": 111,
   "metadata": {},
   "outputs": [],
   "source": [
    "tf_idf = TfidfVectorizer()\n",
    "df_tf = tf_idf.fit_transform(df.review, )"
   ]
  },
  {
   "cell_type": "code",
   "execution_count": 112,
   "metadata": {},
   "outputs": [],
   "source": [
    "df1_tf = tf_idf.transform(df1.review)"
   ]
  },
  {
   "cell_type": "code",
   "execution_count": 118,
   "metadata": {},
   "outputs": [],
   "source": [
    "from sklearn.metrics import mean_absolute_error\n",
    "linreg = Ridge()\n",
    "linreg.fit(df_tf, df.score)\n",
    "y_pred = linreg.predict(df1_tf)"
   ]
  },
  {
   "cell_type": "code",
   "execution_count": 119,
   "metadata": {},
   "outputs": [],
   "source": [
    "to_submit = pd.DataFrame(data={'score': y_pred, \"review_id\": df1.review_id})"
   ]
  },
  {
   "cell_type": "code",
   "execution_count": 120,
   "metadata": {},
   "outputs": [],
   "source": [
    "to_submit.to_csv('submit_2.csv', index=False)"
   ]
  },
  {
   "cell_type": "code",
   "execution_count": 2,
   "metadata": {},
   "outputs": [],
   "source": [
    "#https://drive.google.com/drive/folders/1Yt6nTLymMHRAtF8HdqHSPkYxRb_w014H?usp=sharing\n",
    "#cкрин из соревнования на диске"
   ]
  },
  {
   "cell_type": "markdown",
   "metadata": {
    "id": "0CufFcfHXhuo"
   },
   "source": [
    "Предскажите этой моделью тестовые данные из [соревнования](https://www.kaggle.com/t/3e8fa6cec6d048bf8e93fb72e441d88c) и сделайте сабмит. Какой у вас получился скор? Прикрепите скриншот из кэггла."
   ]
  },
  {
   "cell_type": "markdown",
   "metadata": {
    "id": "E-4Zve40XHaS"
   },
   "source": [
    "### Часть 2. 2 балла"
   ]
  },
  {
   "cell_type": "markdown",
   "metadata": {
    "id": "cYFL-5yFXHaS"
   },
   "source": [
    "Обучите логистическую или линейную регрессию на усредненных Word2Vec векторах. "
   ]
  },
  {
   "cell_type": "code",
   "execution_count": 2,
   "metadata": {
    "id": "jpcCEhBDXHaS"
   },
   "outputs": [],
   "source": [
    "#это задание в другом ноутбуке тк считала его на сервере\n",
    "#https://drive.google.com/drive/folders/1Yt6nTLymMHRAtF8HdqHSPkYxRb_w014H?usp=sharing\n",
    "#cкрин из соревнования на диске"
   ]
  },
  {
   "cell_type": "markdown",
   "metadata": {
    "id": "KWrIciGxXHaS"
   },
   "source": [
    "Усредняя w2v вектора, мы предполагаем, что каждое слово имеет равноценный вклад в смысл предложения, однако это может быть не совсем так. Теперь попробуйте воспользоваться другой концепцией и перевзвесить слова при получении итогового эмбеддинга текста. В качестве весов используйте IDF (Inverse document frequency)"
   ]
  },
  {
   "cell_type": "code",
   "execution_count": null,
   "metadata": {
    "id": "mQSuuLP9XHaS"
   },
   "outputs": [],
   "source": [
    "def calc_idf(texts):\n",
    "    pass"
   ]
  },
  {
   "cell_type": "markdown",
   "metadata": {
    "id": "4s-6HQo0XHaT"
   },
   "source": [
    "Проведите эксперименты с размерностью эмбеддинга. Для каждого из двух методов постройте график зависимости качества модели от размерности эмбеддинга. \n",
    "\n",
    "#### Сделайте выводы:"
   ]
  },
  {
   "cell_type": "markdown",
   "metadata": {
    "id": "f29vizrmXHaT"
   },
   "source": [
    "Теперь попробуйте обучить логистическую или линейную регрессию на любых других эмбеддингах размерности 300 и сравните качество с Word2Vec.\n",
    "#### Выводы:\n",
    "`<ВАШ ТЕКСТ ЗДЕСЬ>`"
   ]
  },
  {
   "cell_type": "markdown",
   "metadata": {
    "id": "9AjabHMsXXBu"
   },
   "source": [
    "Предскажите вашей лучшей моделью из этого задания тестовые данные из [соревнования](https://www.kaggle.com/t/3e8fa6cec6d048bf8e93fb72e441d88c) и сделайте сабмит. Какой у вас получился скор? Прикрепите скриншот из кэггла."
   ]
  },
  {
   "cell_type": "markdown",
   "metadata": {
    "id": "EO5TZriLXHaT"
   },
   "source": [
    "### Часть 3. 4 балла"
   ]
  },
  {
   "cell_type": "markdown",
   "metadata": {
    "id": "5RNngNdWXHaT"
   },
   "source": [
    "Теперь давайте воспользуемся более продвинутыми методами обработки текстовых данных, которые мы проходили в нашем курсе. Обучите RNN/Transformer для предсказания пользовательской оценки."
   ]
  },
  {
   "cell_type": "code",
   "execution_count": 3,
   "metadata": {},
   "outputs": [],
   "source": [
    "#это задание в другом ноутбуке тк считала его на сервере\n",
    "#https://drive.google.com/drive/folders/1Yt6nTLymMHRAtF8HdqHSPkYxRb_w014H?usp=sharing\n",
    "#cкрин из соревнования на диске"
   ]
  },
  {
   "cell_type": "markdown",
   "metadata": {
    "id": "_8YdTedQXHaT"
   },
   "source": [
    "Если будете обучать RNN, попробуйте ограничить максимальную длину предложения. Некоторые отзывы могут быть слишком длинные относительно остальных.\n",
    "\n",
    "Чтобы пользоваться DataLoader, все его элементы должны быть одинаковой размерности. Для этого вы можете добавить нулевой паддинг ко всем предложениям (см пример pad_sequence)"
   ]
  },
  {
   "cell_type": "markdown",
   "metadata": {
    "id": "n3OeNQkoXHaW"
   },
   "source": [
    "### Контест (до 3 баллов)\n",
    "\n",
    "По итогам всех ваших экспериментов выберите модель, которую считаете лучшей. Сделайте сабмит в контест. В зависимости от вашего скора на публичном лидерборде, мы начислим вам баллы:\n",
    "\n",
    " - <0.76 - 3 балла\n",
    " - [0.76; 0.78) - 2 балла\n",
    " - [0.78; 0.8) - 1 балл"
   ]
  },
  {
   "cell_type": "code",
   "execution_count": null,
   "metadata": {
    "id": "jfORFaucXHaW"
   },
   "outputs": [],
   "source": []
  }
 ],
 "metadata": {
  "colab": {
   "collapsed_sections": [],
   "name": "hw3_kaggle.ipynb",
   "provenance": []
  },
  "kernelspec": {
   "display_name": "Python 3 (ipykernel)",
   "language": "python",
   "name": "python3"
  },
  "language_info": {
   "codemirror_mode": {
    "name": "ipython",
    "version": 3
   },
   "file_extension": ".py",
   "mimetype": "text/x-python",
   "name": "python",
   "nbconvert_exporter": "python",
   "pygments_lexer": "ipython3",
   "version": "3.9.7"
  }
 },
 "nbformat": 4,
 "nbformat_minor": 1
}
